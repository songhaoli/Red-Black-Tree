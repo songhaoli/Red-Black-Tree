{
 "cells": [
  {
   "cell_type": "raw",
   "metadata": {},
   "source": [
    "Red-Black Tree\n",
    "\n",
    "A Red-Black Tree is a type of self-balancing binary search tree.\n",
    "For more details, see https://en.wikipedia.org/wiki/Red–black_tree\n",
    "\n",
    "We provide an implementation of Red-Balck Tree in Python."
   ]
  },
  {
   "cell_type": "code",
   "execution_count": 1,
   "metadata": {},
   "outputs": [],
   "source": [
    "class node:\n",
    "    def __init__(self, x, c=True):\n",
    "        self.val = x\n",
    "        self.red = c\n",
    "        self.left = None\n",
    "        self.right = None\n",
    "        self.parent = None"
   ]
  },
  {
   "cell_type": "code",
   "execution_count": 2,
   "metadata": {},
   "outputs": [],
   "source": [
    "class RBTree:\n",
    "    def __init__(self, r=None):\n",
    "        self.root = r"
   ]
  },
  {
   "cell_type": "code",
   "execution_count": 3,
   "metadata": {},
   "outputs": [],
   "source": [
    "class RBTree(RBTree):\n",
    "    '''\n",
    "    Search and return the node that has the value x.\n",
    "    Return None if x cannot be found.\n",
    "    '''\n",
    "    def search(self, x):\n",
    "        n = self.root\n",
    "        while n != None and n.val != None and n.val != x:\n",
    "            if x < n.val:\n",
    "                n = n.left\n",
    "            else:\n",
    "                n = n.right\n",
    "        if n.val == x:\n",
    "            return n\n",
    "        else:\n",
    "            return None"
   ]
  },
  {
   "cell_type": "code",
   "execution_count": 4,
   "metadata": {},
   "outputs": [],
   "source": [
    "class RBTree(RBTree):\n",
    "    # Insert the value x.\n",
    "    def insert(self, x):\n",
    "        n = node(x)\n",
    "        n.left, n.right = node(None, False), node(None, False)\n",
    "        n.left.parent, n.right.parent = n, n\n",
    "        # Case 0. The tree is empty\n",
    "        if self.root == None or self.root.val == None:\n",
    "            n.red = False\n",
    "            self.root = n\n",
    "            return\n",
    "        # find the correct place of the node, c, in the tree\n",
    "        c = self.root\n",
    "        p = None\n",
    "        while c.val != None:\n",
    "            p = c\n",
    "            if n.val < c.val:\n",
    "                c = c.left\n",
    "            elif n.val > c.val:\n",
    "                c = c.right\n",
    "            else: # x is already in the tree. Do nothing!\n",
    "                return\n",
    "        # c.val is None, replace c by n\n",
    "        n.parent = p\n",
    "        if n.val < p.val:\n",
    "            p.left = n\n",
    "        else:\n",
    "            p.right = n\n",
    "        self.insert_fix(n)"
   ]
  },
  {
   "cell_type": "code",
   "execution_count": 5,
   "metadata": {},
   "outputs": [],
   "source": [
    "class RBTree(RBTree):\n",
    "    '''\n",
    "    Helper function that fixes the tree at the node n after insertion.\n",
    "    \n",
    "    Recall that n is initialized to be red by default.\n",
    "    n: n\n",
    "    p: n's parent\n",
    "    g: n's grandparent\n",
    "    u: n's uncle\n",
    "    \n",
    "    We consider 4 cases:\n",
    "    \n",
    "    Case 0.\n",
    "    'n' is the root. We change the colour of 'n' to black.\n",
    "    This is taken care of in the method insert(self, x).\n",
    "    \n",
    "    Case 1.\n",
    "    'p' is black. Nothing to do.\n",
    "    \n",
    "    Case 2.\n",
    "    'p' is red, and 'u' is also red.\n",
    "    Change 'p' and 'u' to be black, and change G to be red.\n",
    "    Set 'n' = 'g', and repeat if necessary.\n",
    "    \n",
    "    Case 3.\n",
    "    'p' is red, 'u' is black, and 'n' is between 'p' and 'g'.\n",
    "    'n' to 'g', convert to Case 4.\n",
    "    \n",
    "    Case 4.\n",
    "    'p' is red, 'u' is black, and 'p' is between 'n' and 'g'.\n",
    "    Rotate 'p' to 'g'.\n",
    "    '''\n",
    "    def insert_fix(self, n):\n",
    "        while n.parent.red == True and n != self.root:\n",
    "            p = n.parent\n",
    "            g = p.parent\n",
    "            if p == g.left:\n",
    "                uncle = g.right\n",
    "            else:\n",
    "                uncle = g.left\n",
    "            \n",
    "            if uncle.red:\n",
    "                '''\n",
    "                This is Case 2\n",
    "                     gB                   gR\n",
    "                    /  \\                 /  \\\n",
    "                  pR   uR     =>        pB   uB\n",
    "                 /  \\                  /  \\\n",
    "                nR                    nR\n",
    "                '''\n",
    "                p.red = False\n",
    "                uncle.red = False\n",
    "                g.red = True\n",
    "                n = g\n",
    "            else:\n",
    "                if (p == g.left and n == p.right) or (p == g.right and n == p.left):\n",
    "                    '''\n",
    "                    This is Case 3\n",
    "                           gg                   gg\n",
    "                          /                    / \n",
    "                         gB                   nB\n",
    "                        /  \\                 /  \\\n",
    "                       pR   uB     =>       pR  gR\n",
    "                      /  \\                 /      \\\n",
    "                         nR                       uB\n",
    "                    '''\n",
    "                    n.red = False\n",
    "                    g.red = True\n",
    "                    if g == self.root:\n",
    "                        self.root = n\n",
    "                    else:\n",
    "                        gg = g.parent\n",
    "                        if g == gg.left:\n",
    "                            gg.left = n\n",
    "                        else:\n",
    "                            gg.right = n\n",
    "                        n.parent = gg\n",
    "                    if p == g.left and n == p.right: # As shown above\n",
    "                        n.left, n.right, g.left, p.right = p, g, node(None, False), node(None, False)\n",
    "                    else: # p == g.right and n == p.left, mirror reflection\n",
    "                        n.left, n.right, g.right, p.left = g, p, node(None, False), node(None, False)\n",
    "                    p.parent, g.parent = n, n\n",
    "                else:\n",
    "                    '''\n",
    "                    This is Case 4\n",
    "                             gg                   gg\n",
    "                            /                    / \n",
    "                          gB                   pB\n",
    "                         /  \\                 /  \\\n",
    "                       pR   uB     =>        nR   gR\n",
    "                      /  \\                     \\    \\\n",
    "                     nR  t1                    t1   uB\n",
    "                    '''\n",
    "                    g.red = True\n",
    "                    p.red = False\n",
    "                    if g == self.root:\n",
    "                        self.root = p\n",
    "                    else:\n",
    "                        gg = g.parent\n",
    "                        if g == gg.left:\n",
    "                            gg.left = p\n",
    "                        else:\n",
    "                            gg.right = p\n",
    "                        p.parent = gg\n",
    "                    if p == g.left and n == p.left: # As shown above\n",
    "                        t1 = p.right\n",
    "                        p.left, p.right, n.left, n.right, g.left= n, g, node(None, False), t1, node(None, False)\n",
    "                    else: # p == g.right and n == p.right, mirror reflection\n",
    "                        t1 = p.left\n",
    "                        p.left, p.right, n.left, n.right, g.right= g, n, t1, node(None, False), node(None, False)\n",
    "                    n.parent, g.parent, t1.parent = p, p, n\n",
    "        self.root.red = False"
   ]
  },
  {
   "cell_type": "code",
   "execution_count": 6,
   "metadata": {},
   "outputs": [],
   "source": [
    "class RBTree(RBTree):\n",
    "    # delete a value\n",
    "    def delete(self, x):\n",
    "        if (self.root is None) or (x is None): # Nothing to delete\n",
    "            return\n",
    "        p, s = None, self.root\n",
    "        while s.val != x:\n",
    "            if s.val is None: # We have reached a leaf. We cannot find x in the tree.\n",
    "                return\n",
    "            if x > s.val:\n",
    "                p, s = s, s.right\n",
    "            elif x < s.val:\n",
    "                p, s = s, s.left\n",
    "            else: # s.val == x\n",
    "                break\n",
    "        # Now we have s.val == x\n",
    "        \n",
    "        # We prepare to remove s.\n",
    "        if (s.left.val is None) and (s.right.val is None):\n",
    "            # if both s.left.val and s.right.val are None, replace s with s.left by a random choice\n",
    "            remove = s\n",
    "            child = s.left\n",
    "        elif (s.left.val is None) and (s.right.val is not None): # if s.left.val is None, replace s with s.right\n",
    "            remove = s\n",
    "            child = s.right\n",
    "        elif (s.right.val is None) and (s.left.val is not None): # if s.left.val is None, replace s with s.left\n",
    "            remove = s\n",
    "            child = s.left\n",
    "        else: # if s.left.val and s.right.val:\n",
    "            # if s has both children, we replace s with n, which is the min of right subtree of s.\n",
    "            n = s.right\n",
    "            while n.left.val is not None:\n",
    "                n = n.left\n",
    "        \n",
    "            # Make a copy of n with the color of s\n",
    "            new = node(n.val, s.red)\n",
    "            new.left, new.right = s.left, s.right\n",
    "            s.left.parent, s.right.parent = new, new\n",
    "            \n",
    "            if s == self.root: # s is the root, replace self.root with the copy of m.\n",
    "                self.root = new\n",
    "            elif (p.left is not None) and (p.left.val == x): # If p.left == s, replace p.left with the copy of m\n",
    "                p.left = new\n",
    "            else: # If p.right == s, replace p.right with the copy of m\n",
    "                p.right = new\n",
    "            new.parent = p\n",
    "            remove, child = n, n.right\n",
    "        \n",
    "        parent = remove.parent\n",
    "        '''\n",
    "        At this point, we have:\n",
    "        -- remove:\n",
    "            The node to be removed\n",
    "        -- child:\n",
    "            At most one of the two children of 'remove' is not a leaf, 'child' is this child if it exists.\n",
    "            If both chilren of 'remove' are leaves, 'child' is either of the leaves.\n",
    "        -- parent:\n",
    "            The parent of 'remove', which could be None if 'remove' is the root.\n",
    "        '''\n",
    "        \n",
    "        '''\n",
    "        First, we replace 'remove' by 'child'.\n",
    "                     parent                         parent\n",
    "                    /                              /\n",
    "                 remove              =>         child\n",
    "                 /    \\                             \\\n",
    "              child   t1                            t1\n",
    "        '''\n",
    "        if child == remove.left:\n",
    "            child.right = remove.right\n",
    "        else:\n",
    "            child.left = remove.left\n",
    "        if remove == self.root:\n",
    "            self.root = child\n",
    "        elif parent.left == remove: # If parent.left == remove, replace parent.left with 'child'\n",
    "            parent.left = child\n",
    "        else: # If parent.right == remove, replace parent.right with 'child'\n",
    "            parent.right = child\n",
    "        child.parent = parent\n",
    "        \n",
    "        # If child is already a leaf, clear its children.\n",
    "        if child.val == None:\n",
    "            child.left, child.right = None, None\n",
    "        \n",
    "        if remove.red:\n",
    "            '''\n",
    "            If 'remove' is red, nothing more needs to be done.\n",
    "                     parent                         parent\n",
    "                    /                              /\n",
    "                 removeR             =>         child\n",
    "                 /    \\                             \\\n",
    "              child   t1                            t1\n",
    "            '''\n",
    "            return\n",
    "        if remove.red == False and child.red:\n",
    "            '''\n",
    "            If 'remove' is black and 'child' is red, change the color of 'child' to black.\n",
    "                     parent                         parent\n",
    "                    /                              /\n",
    "                 removeB             =>         childB\n",
    "                 /    \\                             \\\n",
    "              childR  t1                            t1\n",
    "            '''\n",
    "            child.red = False\n",
    "            return\n",
    "        '''\n",
    "        Now we have the difficult case where 'remove' is black and 'child' is black.\n",
    "        We change the color of 'child' to 'db' and pass it to delete_fix\n",
    "                     parent                         parent\n",
    "                    /                              /\n",
    "                 remove              =>         child,db\n",
    "                 /    \\                             \\\n",
    "              child   t1                            t1\n",
    "        '''\n",
    "        child.red = 'db'\n",
    "        self.delete_fix(child)\n",
    "        return"
   ]
  },
  {
   "cell_type": "code",
   "execution_count": 7,
   "metadata": {},
   "outputs": [],
   "source": [
    "class RBTree(RBTree):\n",
    "    def delete_fix(self, db):\n",
    "        while db.red == 'db':\n",
    "            '''\n",
    "            Case 1: db is the root.\n",
    "            Change its color from 'db' to black.\n",
    "            '''\n",
    "            if db == self.root:\n",
    "                db.red = False\n",
    "                return\n",
    "            \n",
    "            '''\n",
    "            Assign names to the nodes:\n",
    "                        p\n",
    "                       / \\\n",
    "                      db  s\n",
    "                         / \\\n",
    "                        x   y\n",
    "            '''\n",
    "            p = db.parent\n",
    "            if db == p.left:\n",
    "                s = p.right\n",
    "                x, y = s.left, s.right\n",
    "            else:\n",
    "                s = p.left\n",
    "                x, y = s.right, s.left\n",
    "            \n",
    "            if s.red == False and y.red == True:\n",
    "                '''\n",
    "                Case 6: C and D can be either red or black.\n",
    "                        pC                    sC\n",
    "                       /  \\                  /  \\\n",
    "                      db  sR        =>      pB  yB\n",
    "                         /  \\              /  \\\n",
    "                        xD   yR           dB  xD\n",
    "                '''\n",
    "                p.red, s.red, y.red, db.red = False, p.red, False, False\n",
    "                if p == self.root:\n",
    "                    self.root = s\n",
    "                else:\n",
    "                    g = p.parent\n",
    "                    if p == g.left:\n",
    "                        g.left = s \n",
    "                    else:\n",
    "                        g.right = s\n",
    "                    s.parent = g\n",
    "                if db == p.left: # as shown above\n",
    "                    s.left, s.right, p.right = p, y, x\n",
    "                else: # mirror reflection\n",
    "                    s.left, s.right, p.left = y, p, x\n",
    "                p.parent, y.parent, x.parent = s, s, p\n",
    "                return\n",
    "            if p.red == True:\n",
    "                '''\n",
    "                Case 4:\n",
    "                     pR                    pB\n",
    "                    /  \\                  /  \\\n",
    "                   db  sB                dB  sR\n",
    "                '''\n",
    "                p.red = False\n",
    "                s.red = True\n",
    "                db.red = False\n",
    "                return\n",
    "            \n",
    "            else: # p.red == False:\n",
    "                if s.red == True:\n",
    "                    '''\n",
    "                    Case 2: We convert case 2 to case 4, see above\n",
    "                            pB                    sB\n",
    "                           /  \\                  /  \\\n",
    "                          db  sR        =>      pR  yB\n",
    "                             /  \\              /  \\\n",
    "                            xB   yB           db  xB\n",
    "                    '''\n",
    "                    p.red, s.red = True, False\n",
    "                    if p == self.root:\n",
    "                        self.root = s\n",
    "                    else:\n",
    "                        g = p.parent\n",
    "                        if p == g.left:\n",
    "                            g.left = s \n",
    "                        else:\n",
    "                            g.right = s\n",
    "                        s.parent = g\n",
    "                    if db == p.left: # as shown above\n",
    "                        s.left, s.right, s.left.left, s.left.right = p, y, db, x\n",
    "                    else: # mirror image of the above\n",
    "                        s.left, s.right, s.right.left, s.right.right = y, p, x, db\n",
    "                    p.parent, y.parent, db.parent, x.parent = s, s, p, p\n",
    "                \n",
    "                elif x.red == False and y.red == False:\n",
    "                    '''\n",
    "                    Case 3: 'p' is the new 'db'.\n",
    "                            pB                    p(db)\n",
    "                           /  \\                  /  \\\n",
    "                          db  sB        =>      dB  sR\n",
    "                             /  \\                  /  \\\n",
    "                            xB   yB               xB  yB\n",
    "                    '''\n",
    "                    p.red, db.red, s.red = 'db', False, True\n",
    "                    db = p\n",
    "                elif x.red == True and y.red == False:\n",
    "                    '''\n",
    "                    Case 5:\n",
    "                            pB                    pB\n",
    "                           /  \\                  /  \\\n",
    "                          db  sB                dB  xB\n",
    "                             /  \\       =>            \\\n",
    "                            xR   yB                   sR\n",
    "                              \\                      /  \\\n",
    "                              t1                    t1  yB\n",
    "                    '''\n",
    "                    s.red, x.red = True, False\n",
    "                    if db == p.left: # as shown above\n",
    "                        t1 = x.right\n",
    "                        p.right, x.right, s.left = x, s, t1\n",
    "                    else: # mirro reflection\n",
    "                        t1 = x.left\n",
    "                        p.left, x.left, s.right = x, s, t1\n",
    "                    x.parent, s.parent, t1.parent = p, x, s"
   ]
  },
  {
   "cell_type": "code",
   "execution_count": 8,
   "metadata": {},
   "outputs": [],
   "source": [
    "class RBTree(RBTree):\n",
    "    # check if the binary tree is a binary search tree.\n",
    "    def isBST(self):\n",
    "        def helper(node, l = float('-inf'), u = float('inf')):\n",
    "            if not node or node.val is None:\n",
    "                return True\n",
    "            x = node.val\n",
    "            if x <= l or x >= u:\n",
    "                return False\n",
    "\n",
    "            if not helper(node.right, x, u):\n",
    "                return False\n",
    "            if not helper(node.left, l, x):\n",
    "                return False\n",
    "            return True\n",
    "        return helper(self.root)\n",
    "    \n",
    "    # check color consistency of leaves\n",
    "    def checkLeaves(self):\n",
    "        def helper(node):\n",
    "            if not node:\n",
    "                return True\n",
    "            if (node.red != True) and (node.red != False):\n",
    "                # Check if color is red or black.\n",
    "                return False\n",
    "            if (node.left or node.right) and node.val is None:\n",
    "                # Check if a non-leaf node has the value None.\n",
    "                return False\n",
    "            if node.val is None and node.red == True:\n",
    "                # Leaf nodes must be black.\n",
    "                return False\n",
    "            if node.red == True and (node.left.red == True or node.right.red == True):\n",
    "                # The children of a red node must be black.\n",
    "                return False\n",
    "            if node.left and node.left.parent != node:\n",
    "                # The left child's parent must be the node itself.\n",
    "                return False\n",
    "            if node.right and node.right.parent != node:\n",
    "                # The right child's parent must be the node itself.\n",
    "                return False\n",
    "            if not helper(node.left):\n",
    "                return False\n",
    "            if not helper(node.right):\n",
    "                return False\n",
    "            return True\n",
    "        return helper(self.root)\n",
    "    \n",
    "    # Check if the black depth is consitent.\n",
    "    # Return True if every path from the root to a leaf contain the same number of black nodes.\n",
    "    def checkBlackDepth(self):\n",
    "        def helper(node):\n",
    "            if node is None:\n",
    "                return 0\n",
    "            \n",
    "            left_depth = helper(node.left)\n",
    "            right_depth = helper(node.right)\n",
    "            if node.red == True:\n",
    "                increment = 0\n",
    "            else:\n",
    "                increment = 1\n",
    "            \n",
    "            if left_depth == -1 or right_depth == -1 or left_depth != right_depth:\n",
    "                return -1\n",
    "            else:\n",
    "                return left_depth + increment\n",
    "        \n",
    "        depth = helper(self.root)\n",
    "        if depth == -1:\n",
    "            return False\n",
    "        else:\n",
    "            return True"
   ]
  },
  {
   "cell_type": "code",
   "execution_count": 9,
   "metadata": {},
   "outputs": [],
   "source": [
    "class RBTree(RBTree):\n",
    "    # check if the binary tree is a Red-Black Tree.\n",
    "    def isRBT(self):\n",
    "        if not self.isBST():\n",
    "            return False\n",
    "        if not self.checkLeaves():\n",
    "            return False\n",
    "        if not self.checkBlackDepth():\n",
    "            return False\n",
    "        return True\n",
    "        # return self.isBST() and self.checkLeaves() and self.checkBlackDepth()"
   ]
  },
  {
   "cell_type": "code",
   "execution_count": 10,
   "metadata": {},
   "outputs": [],
   "source": [
    "def RBTToList(n) -> list:\n",
    "    if n is None or n.val is None:\n",
    "        return []\n",
    "    return RBTToList(n.left) + [n.val] + RBTToList(n.right)"
   ]
  },
  {
   "cell_type": "code",
   "execution_count": 11,
   "metadata": {},
   "outputs": [],
   "source": [
    "'''\n",
    "Provide a quick way to initialize a red-black tree.\n",
    "Note: This function does not check the validity.\n",
    "\n",
    "False = Black\n",
    "True = Red\n",
    "[(3,False),(1,False),(5,True),(None,False),(None,False),(4,False),(6,False)] will initialize to the binary tree of depth 3:\n",
    "      3B\n",
    "    _/  \\__\n",
    "  1B        5R\n",
    " /  \\     _/  \\_\n",
    "NB  NB  4B      6B\n",
    "       /  \\    /  \\\n",
    "      NB  NB  NB  NB\n",
    "'''\n",
    "def ListToBST(rbt_list: list) -> RBTree:\n",
    "    \n",
    "    # The list is empty\n",
    "    if len(rbt_list) == 0:\n",
    "        return RBTree(node(None, False))\n",
    "    \n",
    "    # There is only 1 element.\n",
    "    if len(rbt_list) == 1:\n",
    "        n = node(rbt_list[0][0], rbt_list[0][1])\n",
    "        n.left, n.right = node(None, False), node(None, False)\n",
    "        n.left.parent, n.right.parent = n, n\n",
    "        return RBTree(n)\n",
    "    \n",
    "    # There are at least 2 elements.\n",
    "    n_list = [None]*len(rbt_list)\n",
    "    for i, x in enumerate(rbt_list):\n",
    "        if x is not None:\n",
    "            n_list[i] = node(x[0],x[1])\n",
    "    \n",
    "    # last_level is the index for last node in the second last row\n",
    "    last_level = int(bin(len(n_list))[3:], 2)\n",
    "    for i, n in enumerate(rbt_list[:last_level]):\n",
    "        n_list[i].left = n_list[i*2+1]\n",
    "        n_list[i*2+1].parent = n_list[i]\n",
    "        n_list[i].right = n_list[i*2+2]\n",
    "        n_list[i*2+2].parent = n_list[i]\n",
    "    \n",
    "    # Assign the leaves to be None with colour Black\n",
    "    for n in n_list[last_level:]:\n",
    "        if n.val != None:\n",
    "            if n.left == None:\n",
    "                n.left = node(None, False)\n",
    "                n.left.parent = n\n",
    "            if n.right == None:\n",
    "                n.right = node(None, False)\n",
    "                n.right.parent = n\n",
    "    \n",
    "    return RBTree(n_list[0])"
   ]
  },
  {
   "cell_type": "code",
   "execution_count": 12,
   "metadata": {},
   "outputs": [
    {
     "data": {
      "text/plain": [
       "True"
      ]
     },
     "execution_count": 12,
     "metadata": {},
     "output_type": "execute_result"
    }
   ],
   "source": [
    "l = [(3,False),(1,False),(5,True),(None,False),(None,False),(4,False),(6,False)]\n",
    "t = ListToBST(l)\n",
    "t.isRBT()"
   ]
  },
  {
   "cell_type": "code",
   "execution_count": 13,
   "metadata": {},
   "outputs": [
    {
     "data": {
      "text/plain": [
       "6"
      ]
     },
     "execution_count": 13,
     "metadata": {},
     "output_type": "execute_result"
    }
   ],
   "source": [
    "t.root.right.right.val"
   ]
  },
  {
   "cell_type": "code",
   "execution_count": 14,
   "metadata": {},
   "outputs": [
    {
     "data": {
      "text/plain": [
       "True"
      ]
     },
     "execution_count": 14,
     "metadata": {},
     "output_type": "execute_result"
    }
   ],
   "source": [
    "t.isRBT()"
   ]
  },
  {
   "cell_type": "code",
   "execution_count": 15,
   "metadata": {},
   "outputs": [
    {
     "data": {
      "text/plain": [
       "[1, 3, 4, 5, 6]"
      ]
     },
     "execution_count": 15,
     "metadata": {},
     "output_type": "execute_result"
    }
   ],
   "source": [
    "RBTToList(t.root)"
   ]
  },
  {
   "cell_type": "code",
   "execution_count": 16,
   "metadata": {},
   "outputs": [
    {
     "data": {
      "text/plain": [
       "True"
      ]
     },
     "execution_count": 16,
     "metadata": {},
     "output_type": "execute_result"
    }
   ],
   "source": [
    "t.isRBT()"
   ]
  },
  {
   "cell_type": "code",
   "execution_count": 17,
   "metadata": {},
   "outputs": [],
   "source": [
    "t.search(2)"
   ]
  },
  {
   "cell_type": "code",
   "execution_count": 18,
   "metadata": {},
   "outputs": [
    {
     "data": {
      "text/plain": [
       "2"
      ]
     },
     "execution_count": 18,
     "metadata": {},
     "output_type": "execute_result"
    }
   ],
   "source": [
    "t.insert(2)\n",
    "t.root.left.right.val"
   ]
  },
  {
   "cell_type": "code",
   "execution_count": 19,
   "metadata": {},
   "outputs": [
    {
     "data": {
      "text/plain": [
       "True"
      ]
     },
     "execution_count": 19,
     "metadata": {},
     "output_type": "execute_result"
    }
   ],
   "source": [
    "t.isRBT()"
   ]
  },
  {
   "cell_type": "code",
   "execution_count": 20,
   "metadata": {},
   "outputs": [
    {
     "data": {
      "text/plain": [
       "4"
      ]
     },
     "execution_count": 20,
     "metadata": {},
     "output_type": "execute_result"
    }
   ],
   "source": [
    "t.delete(3)\n",
    "t.root.val"
   ]
  },
  {
   "cell_type": "code",
   "execution_count": 21,
   "metadata": {},
   "outputs": [
    {
     "data": {
      "text/plain": [
       "True"
      ]
     },
     "execution_count": 21,
     "metadata": {},
     "output_type": "execute_result"
    }
   ],
   "source": [
    "t.isRBT()"
   ]
  }
 ],
 "metadata": {
  "kernelspec": {
   "display_name": "Python 3",
   "language": "python",
   "name": "python3"
  },
  "language_info": {
   "codemirror_mode": {
    "name": "ipython",
    "version": 3
   },
   "file_extension": ".py",
   "mimetype": "text/x-python",
   "name": "python",
   "nbconvert_exporter": "python",
   "pygments_lexer": "ipython3",
   "version": "3.7.1"
  }
 },
 "nbformat": 4,
 "nbformat_minor": 2
}
